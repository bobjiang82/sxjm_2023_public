{
 "cells": [
  {
   "cell_type": "code",
   "execution_count": null,
   "metadata": {},
   "outputs": [],
   "source": [
    "import os\n",
    "import pandas as pd\n",
    "import numpy as np\n",
    "import matplotlib.pyplot as plt\n",
    "import matplotlib_inline.backend_inline"
   ]
  },
  {
   "cell_type": "code",
   "execution_count": null,
   "metadata": {},
   "outputs": [],
   "source": [
    "# 对每一列进行标准化处理\n",
    "def cost_normalize(column):\n",
    "    '''\n",
    "    成本型指标标准化，越小越好 (越接近1)\n",
    "    '''\n",
    "    max_value = column.max()\n",
    "    min_value = column.min()\n",
    "    return (max_value - column) / (max_value - min_value)\n",
    "\n",
    "def benefit_normalize(column):\n",
    "    '''\n",
    "    效益型指标标准化，越大越好 (越接近1)\n",
    "    '''\n",
    "    max_value = column.max()\n",
    "    min_value = column.min()\n",
    "    return (column - min_value) / (max_value - min_value)\n",
    "\n",
    "def fix_normalize(column, a=0):\n",
    "    '''\n",
    "    TODO: seems not correct\n",
    "    固定型指标标准化，越接近固定值 a 最好 (越接近1)\n",
    "    '''\n",
    "    max_value = np.abs(column - a).max()\n",
    "    min_value = np.abs(column - a).min()\n",
    "    return (max_value - np.abs(column - a)) / (max_value - min_value)\n"
   ]
  },
  {
   "cell_type": "code",
   "execution_count": null,
   "metadata": {},
   "outputs": [],
   "source": [
    "# 计算每列的权重\n",
    "def entropy_weight(column):\n",
    "    '''\n",
    "    熵权法计算权重\n",
    "    '''\n",
    "    p = column / column.sum()\n",
    "    e = np.nansum(-p*np.log(p)/np.log(len(column)), axis=0)\n",
    "    return (1 - e) / np.sum(1 - e)\n",
    "\n",
    "def coefficient_variation(column):\n",
    "    '''\n",
    "    变异系数法计算权重\n",
    "    '''\n",
    "    # 计算每列的变异系数\n",
    "    cv = column.std() / column.mean()\n",
    "    # 计算每列的权重\n",
    "    w = cv / np.sum(cv)\n",
    "    return np.array(w)"
   ]
  },
  {
   "cell_type": "code",
   "execution_count": null,
   "metadata": {},
   "outputs": [],
   "source": [
    "def get_output_dir():\n",
    "    script_dir = os.getcwd()\n",
    "    output_dir = os.path.join(script_dir, \"output\")\n",
    "    if not os.path.isdir(output_dir):\n",
    "        os.makedirs(output_dir)\n",
    "    return output_dir\n"
   ]
  },
  {
   "cell_type": "code",
   "execution_count": null,
   "metadata": {},
   "outputs": [],
   "source": [
    "datafilelist = ['1.经济发展度', '2.社会和谐度', '3.生活方便度', '4.环境舒适度']\n",
    "yearlist = ['2018', '2019', '2020', '2021']\n",
    "# datafilelist = ['1.经济发展度']\n",
    "# yearlist = ['2018']\n",
    "factorl1list = ['经济发展度', '社会和谐度', '生活方便度', '环境舒适度']\n",
    "# factors = [['社会消费品零售总额（亿元）', '人均GDP(元)', '一般公共预算收入（亿元）', '一般公共预算支出（亿元）', '第三产业占比'],\n",
    "        #    ['住户存款余额（亿元）', '城镇非私营单位在岗职工平均工资(元)', '年末户籍人口（万人）', '住宅商品房价格与人均工资比', '城镇登记失业率', '社会抚养比'],\n",
    "        #    ['年末邮政局（个）', '普通本科专科在校学生数（万人）', '人均移动电话资源占有数(个)', '每千人口拥有执业 (助理) 医师数', '医院数（个 ）', '执业(助理)医师数（人）', '年末户籍人口（千人）', '年末移动电话用户数量（万个）'],\n",
    "        #    ['道路交通等效声级dB(A)', '环境噪声等效声级dB(A)', '第二产业占比', '城市绿化覆盖率', '第一产业增加值(亿元)', '第三产业增加值（亿元）'],\n",
    "        #   ]\n",
    "# 0-效益型，1-成本型，2-中间型\n",
    "bcfi = [[0, 0, 0, 0, 0],\n",
    "        [0, 0, 0, 0],\n",
    "        [0, 0, 0, 0, 0],\n",
    "        [1, 1, 1, 0],\n",
    "        ]\n",
    "benidx = [[0,1,2,3,4], [0,1,2,3], [0,1,2,3,4], [3]]\n",
    "costidx = [[], [], [], [0,1,2]]\n",
    "fixidx = [[], [], [], []]\n",
    "\n",
    "global_weight = [0.33617548, 0.2995685 , 0.25207122, 0.1121848]\n"
   ]
  },
  {
   "cell_type": "code",
   "execution_count": null,
   "metadata": {},
   "outputs": [],
   "source": [
    "\n",
    "# i=0\n",
    "# df = pd.ExcelFile(f'./data/世界城市排名数据.xlsx').parse(sheet_name=factorl1list[i], index_col=0)\n",
    "# df"
   ]
  },
  {
   "cell_type": "code",
   "execution_count": null,
   "metadata": {},
   "outputs": [],
   "source": [
    "# read and build a complete df, need to rename columns, select target year columns, then compute\n",
    "\n",
    "dfall = pd.DataFrame()\n",
    "for i in range(0,4):\n",
    "    nxsh = pd.ExcelFile(f'./data/世界城市排名数据.xlsx').parse(sheet_name=factorl1list[i], index_col=0)\n",
    "    newcolumns=[]\n",
    "    for yr in yearlist:\n",
    "        newcolumns.append(f'{factorl1list[i]}_{yr}')\n",
    "    print(newcolumns)\n",
    "    nxsh.columns=newcolumns\n",
    "\n",
    "    dfall = pd.concat((dfall, nxsh), axis=1)\n",
    "\n",
    "dfall"
   ]
  },
  {
   "cell_type": "code",
   "execution_count": null,
   "metadata": {},
   "outputs": [],
   "source": [
    "# read and build separate df for each year, also need to rename columns, then compute\n"
   ]
  },
  {
   "cell_type": "code",
   "execution_count": null,
   "metadata": {},
   "outputs": [],
   "source": [
    "# yr=2018\n",
    "# yrid=int(yr)-2018\n",
    "# # df_2018 = df.loc[:, df.columns.contains(['2018'])]\n",
    "# df_2018 = dfall.filter(regex='2018$', axis=\"columns\")\n",
    "# # print(df_2018)\n",
    "# df_2018.columns = factorl1list\n",
    "# print(df_2018)"
   ]
  },
  {
   "cell_type": "code",
   "execution_count": null,
   "metadata": {},
   "outputs": [],
   "source": [
    "\n",
    "# dfranks = df_2018\n",
    "\n",
    "def gen_reldevfuz(dfranks):\n",
    "    # preprocess data\n",
    "    numerical_features = dfranks.dtypes[dfranks.dtypes != 'object'].index\n",
    "    # print(numerical_features)\n",
    "\n",
    "    benefit_index = numerical_features[0:0]\n",
    "    cost_index = numerical_features[0:4]\n",
    "    # fix_index = numerical_features[0:0]\n",
    "\n",
    "    dfranks_benefit = dfranks[benefit_index]\n",
    "    dfranks_cost = dfranks[cost_index]\n",
    "    # df_yr_fix = dfranks[fix_index]\n",
    "\n",
    "    # normalize each column\n",
    "    dfranks_benefit_new = dfranks_benefit.apply(benefit_normalize)\n",
    "    dfranks_cost_new = dfranks_cost.apply(cost_normalize)\n",
    "    # df_yr_fix_new = df_yr_fix.apply(fix_normalize)\n",
    "\n",
    "    # concat benefit, cost and fix parts\n",
    "    dfranks_norm = pd.concat((dfranks_benefit_new, dfranks_cost_new), axis=1)\n",
    "    # now dfranks_norm is the 相对偏差模糊矩阵\n",
    "    return dfranks_norm\n",
    "\n"
   ]
  },
  {
   "cell_type": "code",
   "execution_count": null,
   "metadata": {},
   "outputs": [],
   "source": [
    "\n",
    "def gen_rank1yr(reldevfuzarray):\n",
    "    coevar = coefficient_variation(reldevfuzarray.iloc[:, :])\n",
    "    # print(coevar)\n",
    "    # pie_rank(coevar.tolist(), yr)\n",
    "    # calculate rank\n",
    "    rank1yr = reldevfuzarray.iloc[:, :].dot(coevar)\n",
    "    rank1yr.name = yr\n",
    "    # print(rank1yr)\n",
    "    # print(type(rank1yr))\n",
    "    return rank1yr\n",
    "\n",
    "# sorted_rank1yr = rank1yr.sort_values(ascending=False)\n",
    "# print(sorted_rank1yr)\n",
    "# plot_rank(sorted_rank1yr, f'全指标_综合评价_{yr}')\n"
   ]
  },
  {
   "cell_type": "code",
   "execution_count": null,
   "metadata": {},
   "outputs": [],
   "source": [
    "# print(rank1yr)\n",
    "\n",
    "dffinalrankbyyr = pd.DataFrame()\n",
    "for yr in yearlist:\n",
    "    yrid=int(yr)-2018\n",
    "    df_yr = dfall.filter(regex=f'{yr}$', axis=\"columns\")\n",
    "    df_yr.columns = factorl1list\n",
    "    # print(df_yr)\n",
    "\n",
    "    reldevfuzarray = gen_reldevfuz(df_yr)\n",
    "\n",
    "    rank1yr = gen_rank1yr(reldevfuzarray)\n",
    "    # print(rank1yr)\n",
    "\n",
    "    dffinalrankbyyr = pd.concat((dffinalrankbyyr, rank1yr.rename(f'{yr}')), axis=1)\n",
    "\n",
    "print(f'dffinalrankbyyr')\n",
    "print(dffinalrankbyyr.shape)\n",
    "print(dffinalrankbyyr)\n"
   ]
  },
  {
   "cell_type": "code",
   "execution_count": null,
   "metadata": {},
   "outputs": [],
   "source": [
    "sorted_dffinalrankbyyr = dffinalrankbyyr.sort_values(by='2021', ascending=False)\n",
    "\n",
    "print(f'sorted dffinalrankbyyr')\n",
    "print(sorted_dffinalrankbyyr)\n",
    "\n",
    "output_dir = get_output_dir()\n",
    "with pd.ExcelWriter(os.path.join(output_dir, f'世界城市综合评价.xlsx'), engine='openpyxl', mode='w') as writer:\n",
    "    sorted_dffinalrankbyyr.to_excel(writer, sheet_name=f'全指标_各年综合评价')\n",
    "\n",
    "plt.rc('font',family='SimHei')  #用来正常显示中文标签\n",
    "plt.rcParams['axes.unicode_minus']=False #用来正常显示负号\n",
    "# plt.rcParams['font.sans-serif'] = ['Arial Unicode MS']\n",
    "plt.rcParams['figure.figsize'] = (20, 2.5)\n",
    "\n",
    "plt.plot(sorted_dffinalrankbyyr, 'o-', linewidth=2, alpha=0.5)\n",
    "\n",
    "# plt.xlabel('xlabel')\n",
    "plt.ylabel(f'综合评价分数')\n",
    "plt.legend(labels = yearlist)\n",
    "output_dir = get_output_dir()\n",
    "plt.savefig(os.path.join(output_dir, f'世界城市_全指标_各年综合评价.pdf'), bbox_inches='tight')\n",
    "plt.show()\n",
    "plt.clf()\n"
   ]
  },
  {
   "cell_type": "code",
   "execution_count": null,
   "metadata": {},
   "outputs": [],
   "source": []
  },
  {
   "cell_type": "code",
   "execution_count": null,
   "metadata": {},
   "outputs": [],
   "source": [
    "class StopExecution(Exception):\n",
    "    def _render_traceback_(self):\n",
    "        pass\n"
   ]
  },
  {
   "cell_type": "code",
   "execution_count": null,
   "metadata": {},
   "outputs": [],
   "source": [
    "raise StopExecution"
   ]
  },
  {
   "cell_type": "code",
   "execution_count": null,
   "metadata": {},
   "outputs": [],
   "source": [
    "print(f'Should not see me printed!')"
   ]
  },
  {
   "cell_type": "code",
   "execution_count": null,
   "metadata": {},
   "outputs": [],
   "source": []
  }
 ],
 "metadata": {
  "kernelspec": {
   "display_name": "Python 3 (ipykernel)",
   "language": "python",
   "name": "python3"
  },
  "language_info": {
   "codemirror_mode": {
    "name": "ipython",
    "version": 3
   },
   "file_extension": ".py",
   "mimetype": "text/x-python",
   "name": "python",
   "nbconvert_exporter": "python",
   "pygments_lexer": "ipython3",
   "version": "3.10.10"
  }
 },
 "nbformat": 4,
 "nbformat_minor": 2
}
